{
 "cells": [
  {
   "cell_type": "code",
   "execution_count": 1,
   "metadata": {},
   "outputs": [],
   "source": [
    "import matplotlib.pyplot as plt\n",
    "import numpy as np\n",
    "%matplotlib inline"
   ]
  },
  {
   "cell_type": "code",
   "execution_count": 22,
   "metadata": {},
   "outputs": [],
   "source": [
    "X = np.array([[0,0,1],[1,0,1],[0,1,1],[1,1,1]]) # 세번째 항은 bias\n",
    "y = np.array([0,1,1,0])"
   ]
  },
  {
   "cell_type": "code",
   "execution_count": 30,
   "metadata": {},
   "outputs": [],
   "source": [
    "inputs, hiddens, outputs = 3,4,1\n",
    "np.random.seed(1)\n",
    "w = np.random.random((3,4))\n",
    "omega=np.random.random((4,1))\n",
    "learning_rate = 0.5"
   ]
  },
  {
   "cell_type": "code",
   "execution_count": 31,
   "metadata": {},
   "outputs": [],
   "source": [
    "def f(x):\n",
    "    return 1/(1+np.exp(-x))"
   ]
  },
  {
   "cell_type": "code",
   "execution_count": 35,
   "metadata": {},
   "outputs": [
    {
     "data": {
      "text/plain": [
       "array([0.80118439])"
      ]
     },
     "execution_count": 35,
     "metadata": {},
     "output_type": "execute_result"
    }
   ],
   "source": [
    "for i in range(4):\n",
    "    net_h=np.dot(X[i],w) \n",
    "    h = f(net_h)\n",
    "    net_o=np.dot(h,omega)\n",
    "    o = f(net_o)\n",
    "o"
   ]
  },
  {
   "cell_type": "code",
   "execution_count": 36,
   "metadata": {},
   "outputs": [
    {
     "data": {
      "text/plain": [
       "array([0.00148836])"
      ]
     },
     "execution_count": 36,
     "metadata": {},
     "output_type": "execute_result"
    }
   ],
   "source": [
    "delta_h=[1,2,3,7]\n",
    "for n in range(10000):\n",
    "    E=0\n",
    "    for i in range(4):\n",
    "        net_h=np.dot(X[i],w) \n",
    "        h = f(net_h)\n",
    "        net_o=np.dot(h,omega) \n",
    "        o = f(net_o)\n",
    "        \n",
    "        E = E + (o-y[i])**2\n",
    "        delta_o = (o-y[i])*f(net_o)*(1-f(net_o))\n",
    "        for j in range(4):\n",
    "            delta_h[j]=delta_o * omega[j] * f(net_h[j]) * (1-f(net_h[j]))\n",
    "            omega[j]=omega[j] - learning_rate * delta_o * h[j]\n",
    "            for k in range(3):\n",
    "                w[k][j]=w[k][j]-learning_rate * delta_h[j]*X[i][k]\n",
    "E"
   ]
  },
  {
   "cell_type": "code",
   "execution_count": 37,
   "metadata": {},
   "outputs": [
    {
     "name": "stdout",
     "output_type": "stream",
     "text": [
      "[0.01162387]\n",
      "[0.98174889]\n",
      "[0.98191546]\n",
      "[0.02630703]\n"
     ]
    }
   ],
   "source": [
    "for i in range(4):\n",
    "    neth=np.dot(X[i],w) \n",
    "    h = f(neth)\n",
    "    neto=np.dot(h,omega)\n",
    "    o = f(neto)\n",
    "    print(o)"
   ]
  },
  {
   "cell_type": "code",
   "execution_count": 38,
   "metadata": {},
   "outputs": [
    {
     "name": "stdout",
     "output_type": "stream",
     "text": [
      "True\n",
      "True\n",
      "True\n",
      "True\n"
     ]
    }
   ],
   "source": [
    "for i in range(4):\n",
    "    neth=np.dot(X[i],w)\n",
    "    h = f(neth)\n",
    "    neto = np.dot(h,omega)\n",
    "    o = f(neto)\n",
    "    \n",
    "    if o>0.5:\n",
    "        y_2=1\n",
    "    else:\n",
    "        y_2=0 \n",
    "        \n",
    "    print(y_2==y[i]) "
   ]
  },
  {
   "cell_type": "code",
   "execution_count": null,
   "metadata": {},
   "outputs": [],
   "source": []
  }
 ],
 "metadata": {
  "kernelspec": {
   "display_name": "Python 3",
   "language": "python",
   "name": "python3"
  },
  "language_info": {
   "codemirror_mode": {
    "name": "ipython",
    "version": 3
   },
   "file_extension": ".py",
   "mimetype": "text/x-python",
   "name": "python",
   "nbconvert_exporter": "python",
   "pygments_lexer": "ipython3",
   "version": "3.8.5"
  }
 },
 "nbformat": 4,
 "nbformat_minor": 4
}
